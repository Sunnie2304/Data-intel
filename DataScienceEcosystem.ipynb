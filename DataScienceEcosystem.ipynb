{
 "cells": [
  {
   "cell_type": "markdown",
   "id": "87d40776-7cbf-48bc-9997-141c6a6d6893",
   "metadata": {},
   "source": [
    "# Data Science Tools and Ecosystem "
   ]
  },
  {
   "cell_type": "markdown",
   "id": "b0d35809-e1c9-406d-ab74-ff7a472e3981",
   "metadata": {},
   "source": [
    "In this notebook, Data Science Tools and Ecosystem are summarised "
   ]
  },
  {
   "cell_type": "markdown",
   "id": "3f36ee74-50c5-4d95-8380-78fdacef4297",
   "metadata": {},
   "source": [
    "**Objctives**\n",
    "* list popular languages for data science\n",
    "* list common libraries used by data scientists\n",
    "* list some common data science tools\n",
    "* Evaluating arithmetic expressions in python "
   ]
  },
  {
   "cell_type": "markdown",
   "id": "ad0d53b2-9c7f-42c7-a28a-c2ed5ce6d5e6",
   "metadata": {},
   "source": [
    "some of the popular languages that Data Scientists use are:\n",
    "* Python\n",
    "* R\n",
    "* SQL\n",
    "* Java\n",
    "* Scala\n",
    "* Julia\n",
    "* MATLAB\n",
    "* SAS"
   ]
  },
  {
   "cell_type": "markdown",
   "id": "10ffbeca-f722-4016-a74e-d483df2e5738",
   "metadata": {},
   "source": [
    "Some of the commonly used libraries by Data Scientists include:\n",
    "* Pandas\n",
    "* Numpy\n",
    "* Matplotlib\n",
    "* TensorFlow\n",
    "* PyTorch"
   ]
  },
  {
   "cell_type": "markdown",
   "id": "c5a664a9-554b-4288-be9c-6a46dac781e3",
   "metadata": {},
   "source": [
    "|Data Science Tools|\n",
    "-------------------|\n",
    "|Jupyter Note|\n",
    "|Rstudio|\n",
    "|Spyder|"
   ]
  },
  {
   "cell_type": "markdown",
   "id": "7cc4e5cf-f2e1-498f-af18-8eb8721fe2ee",
   "metadata": {},
   "source": [
    "### Below are few examples of evaluating arithmetic expressions in python"
   ]
  },
  {
   "cell_type": "code",
   "execution_count": 2,
   "id": "bb3dcf10-c1b4-470f-a5a5-e7cb5dd9c127",
   "metadata": {},
   "outputs": [
    {
     "data": {
      "text/plain": [
       "17"
      ]
     },
     "execution_count": 2,
     "metadata": {},
     "output_type": "execute_result"
    }
   ],
   "source": [
    "(3*4)+5\n",
    "# This is a simple arithmetic expression to multiply then add integers"
   ]
  },
  {
   "cell_type": "code",
   "execution_count": 8,
   "id": "95980963-cd8c-40f8-bdec-adb128136b21",
   "metadata": {},
   "outputs": [
    {
     "name": "stdout",
     "output_type": "stream",
     "text": [
      "3\n"
     ]
    }
   ],
   "source": [
    "minutes=200\n",
    "hours=minutes//60\n",
    "# this will convert 200 minutes to hours by dividing by 60\n",
    "print(hours)"
   ]
  },
  {
   "cell_type": "markdown",
   "id": "85d426b2-6bc5-42e4-9627-e171c6085533",
   "metadata": {},
   "source": [
    "## Author \n",
    "Sunday Idoko"
   ]
  },
  {
   "cell_type": "code",
   "execution_count": null,
   "id": "d9a2e807-3b5a-4eed-b168-501689ceee3a",
   "metadata": {},
   "outputs": [],
   "source": []
  }
 ],
 "metadata": {
  "kernelspec": {
   "display_name": "Python 3 (ipykernel)",
   "language": "python",
   "name": "python3"
  },
  "language_info": {
   "codemirror_mode": {
    "name": "ipython",
    "version": 3
   },
   "file_extension": ".py",
   "mimetype": "text/x-python",
   "name": "python",
   "nbconvert_exporter": "python",
   "pygments_lexer": "ipython3",
   "version": "3.11.4"
  },
  "widgets": {
   "application/vnd.jupyter.widget-state+json": {
    "state": {},
    "version_major": 2,
    "version_minor": 0
   }
  }
 },
 "nbformat": 4,
 "nbformat_minor": 5
}
